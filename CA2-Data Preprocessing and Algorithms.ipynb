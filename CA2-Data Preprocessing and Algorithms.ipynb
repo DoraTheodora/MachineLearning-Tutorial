{
 "cells": [
  {
   "cell_type": "markdown",
   "metadata": {},
   "source": [
    "# Machine Learning Tutorial\n",
    "    Author:    Theodora Tataru\n",
    "               C00231174\n",
    "    Tutor:     Greg Doyle\n",
    "    Course:    Software Development, 4th year\n",
    "    Institute: Institute of Technology Carlow\n",
    "    Year:      2020\n",
    "\n",
    "### This is tutorial focuses on various preprocessing data techniques and algorithms\n",
    "#### Artificial Intelligence\n",
    "   1. <a href=\"#AI\"> Artificial Intelligence </a>\n",
    "   2. <a href=\"#tools\"> Tools </a>\n",
    "   3. <a href=\"#techniques\"> Techniques </a>\n",
    "   4. <a href=\"#?\"> ? </a>\n",
    "   5. <a href=\"#?\"> ? </a>\n",
    "   \n",
    "#### Pre-processing data methods:\n",
    "   1. <a href=\"#missing_data\"> cleaning data </a>\n",
    "   2. data integration\n",
    "   3. data reduction\n",
    "   4.\n",
    "   5.\n",
    "\n",
    "#### Machine Learning Algorithms:\n",
    "   1. <a href=\"#CNN\">Neural Network</a>\n",
    "   2. <a href =\"#decision_tree\"> Decision Tree </a>\n",
    "   3. Random Forest\n",
    "   4. Linear Regression\n",
    "   5. Reinforcement\n",
    "    \n",
    "(will be filled more later) \n",
    "\n"
   ]
  },
  {
   "cell_type": "markdown",
   "metadata": {},
   "source": [
    "# Introduction\n",
    "\n",
    "This tutorial is designed to tackle different aspects of Machine Learning, such as pre-processing data, machine learning algorithms - training, testing and predictions.\n",
    "The tutorial aims to explain some different algorithms used in pre-processing data machine learning models."
   ]
  },
  {
   "cell_type": "markdown",
   "metadata": {},
   "source": [
    "<a id=\"AI\"> </a>\n",
    "# Artificial Intelligence\n",
    "\n",
    "In this section, several aspects of machine learning are described at a high-level. Reading this section is extremely important for a clear understanding of the algorithms explained above.\n",
    "\n",
    "Artificial Intelligence is the intelligence implemented into machines. This ability can be gained by performing\n",
    "statistical operations on data.\n",
    "To start the learning progress of the AI, a collection of data is be fed to the system as learning data points. The\n",
    "data fed to the AI needs to be accurate and clean – from any unnecessary information. This data is the single\n",
    "source of knowledge of AI and is the base of Artificial Intelligence.\n",
    "There are many ways AI can learn, and the most popular ways are: Machine Learning and Deep Learning.\n",
    "The human brain is programmed by the DNA that defines neural structures. These structures inside change the path\n",
    "of neural activity and organism behavior as a result of our experiences.\n",
    "There are several ways to simulate these learning mechanisms in computers [49].\n",
    "For learning to happen in both flash and silicon matter, the following are needed:\n",
    "    - A way for the system to understand what is expected of it\n",
    "    - A way for the system to remember the information needed\n",
    "    - A way for the system to input information\n",
    "    - A way for the system to output information\n",
    "    - A way to load algorithms into the system\n",
    "    - Physical matter (hardware for machines) to support all the above bullet points.\n",
    "\n",
    "Since the beginning of AI, the learning system has shifted from algorithms that rely on logic and rules to\n",
    "machine learning, in which case the algorithms contain fewer rules and absorb training data points to learn, as\n",
    "humans, by trial and error. \n",
    "![alt text](AiEvolution.png \"Title\")\n",
    "\n",
    "Thanks to powerful computers and big data, Machine Learning has now advanced algorithms called neural\n",
    "networks. These networks are just a collection of computing fundamentals shaped like the neurons in the human\n",
    "brain, that build stronger or weaker links as they assimilate data [50].\n",
    "This is very important, as humans, do not recognize a dog by definitions like \"if (number of legs==4, and\n",
    "tail==true, size>cat, color==\" brown or white or black)\". If this was the case, we would not be able to recognize\n",
    "a Chikwawa with 3 legs, as a dog. The goal is to make AI think and acknowledge reality as much as possible\n",
    "as close to humans. \n",
    "\n",
    "Machine learning is a part of Artificial Intelligence, that contributes with the ability to allow a machine to learn\n",
    "and improve from input data. Machine learning focuses on the development of computer programs that can\n",
    "access data and use it for learning.\n",
    "Machine learning uses two approaches to train a model :\n",
    "     - Supervised learning, which ingests a set of input data that describes explicitly what the machine should\n",
    "focus on. These data points fed to the machine are labeled\n",
    "    - Unsupervised learning does not feed the AI with labeled data points. In this model, the machine is\n",
    "supposed to organize data on its own, based on the features of the inserted data\n",
    "Usually, the supervised learning is used when the AI model is used to make a prediction, while the unsupervised\n",
    "learning model is used when data needs to be explored.\n",
    "Machine learning gives a system the ability to learn automatically and improve from experience, without\n",
    "being precisely programmed or without any human interaction. \n",
    "\n",
    "Following, in this section, we have a high-level look at how data is pre-processed, what algorithms are mostly used and how the training and the testing steps are achieved. In later sections, some actions are implemented and explained using Python3.\n",
    "\n",
    "\n",
    "## There are 3 main Machine Learning Algorithms:\n",
    "![alt text](ML_algorithms.png \"Title\")\n",
    "   ### 1. Supervised Learning\n",
    "   The supervised machine learning algorithms use labeled data to learn how the mapping function works to map the input variable with the out variable. The supervised learning algorithm consists in several types of supervised learning, but we will focus on two main types:\n",
    "   #### Classification: \n",
    "   It is used to predict the outcome of input data based on cathegories, that the model was trained to recognize.\n",
    "\n",
    "   #### Regression:\n",
    "   It is used to predict the outcome of a input data when the output variable is in the form of real values.\n",
    "\n",
    "    \n",
    "   ### 2. Unsupervised Learning\n",
    "   The unsupervised machine learning algorithms are used when the model is fed with input data and the model itself needs to organize data on its own, based on patterns and features of the inserted data.\n",
    "   Again, there are several types of unsupervised machine learning models, but we will focus on the two main types:\n",
    "   #### Association\n",
    "   It is used to discover relations between input variables. It is highly used in the market analysis as it easily computes the probability of the co-occurrence of items in a collection.\n",
    "   #### Clustering\n",
    "   is used to group the input data as similarities are found.\n",
    "    \n",
    "   ### 3. Reinforcement Learning:\n",
    "   Reinforcement learning is a different type of algorithm, that is designed to allow an agent to predict the best next move. The decision is based on the agent's current state and by learning behaviors that maximaze, it's reward."
   ]
  },
  {
   "cell_type": "markdown",
   "metadata": {},
   "source": [
    "<a id=\"tools\"> </a>\n",
    "# Tools\n",
    "    - python\n",
    "    - tensorflow\n",
    "    - keras\n",
    "    - numpy\n",
    "    - matplotlib\n",
    "    (This is gonna be filled later)"
   ]
  },
  {
   "cell_type": "markdown",
   "metadata": {},
   "source": [
    "<a id=\"techniques\"> </a>\n",
    "# Techniques\n",
    "(filled later)\n",
    "\n",
    "## Data pre-processing\n",
    "This tutorial demonstrates different techniques for pre-processing data.\n",
    "In this part of the tutorial, the following pre-processing methods:\n",
    "    - data cleaning\n",
    "        - handle missing data\n",
    "        - handle noisy data\n",
    "        - binning data for data smoothing\n",
    "    - data integration and transformation\n",
    "        - handle duplicate data\n",
    "        - data integration\n",
    "    - data reduction\n",
    "        - cube aggregation"
   ]
  },
  {
   "cell_type": "markdown",
   "metadata": {},
   "source": [
    "<a id=\"missing_data\"></a>\n",
    "## Data cleaning - Missing data\n",
    "\n",
    "### Packages needed:\n",
    "    - Python 3\n",
    "    - Pandas\n",
    "    - NumPy\n",
    "    - Scikit-Learn\n",
    "### Overview\n",
    "#### Dataset: Diabetes dataset\n",
    "    - Diabetes Dataset\n",
    "    - Has missing values: YES\n",
    "    - Source: National Institute of Diabetes and Digestive Kidney Diseases\n",
    "    - Date: 1990\n",
    "    - Number of instances: 768\n",
    "    - Number of attributes: 8+\n",
    "           1. Number of times pregnant\n",
    "           2. Plasma glucose concentration a 2 hours in an oral glucose tolerance test\n",
    "           3. Diastolic blood pressure (mm Hg)\n",
    "           4. Triceps skinfold thickness (mm)\n",
    "           5. 2-Hour serum insulin (mu U/ml)\n",
    "           6. Body mass index (weight in kg/(height in m)^2)\n",
    "           7. Diabetes pedigree function\n",
    "           8. Age (years)\n",
    "           9. Class variable (0 or 1)\n",
    "#### Process:\n",
    "   - mark missing values\n",
    "   - remove rows with missing values\n",
    "   - replace missing values\n",
    "   - use algorithms that support missing values\n",
    "\n",
    "  "
   ]
  },
  {
   "cell_type": "code",
   "execution_count": null,
   "metadata": {},
   "outputs": [],
   "source": [
    "## Mark Missing values\n",
    "from pandas import read_csv ## used to load the dataset\n",
    "dataset = read_csv('pima-indians-diabetes.csv') ## load the data set from harddisk\n",
    "print(dataset) ## print the summary of the dataset, to see missing values"
   ]
  },
  {
   "cell_type": "markdown",
   "metadata": {},
   "source": [
    "Missing data can be represented by out-of-range values. In a numeric field where values should be positive, missing data can be represented by 0 or negative numbers [1]."
   ]
  },
  {
   "cell_type": "code",
   "execution_count": null,
   "metadata": {},
   "outputs": [],
   "source": [
    "## usingPanda DataFrame, we can print the dataset summary statistics on each field\n",
    "print(dataset.describe())"
   ]
  },
  {
   "cell_type": "markdown",
   "metadata": {},
   "source": [
    "As seen in the above line, there are fields that have a minimum value of zero. On some columns, the value of zero does not make sense and indicates that their values are missing [1].\n",
    "\n",
    "Columns with missing values:\n",
    "\n",
    "    1: Plasma glucose concentration\n",
    "    2: Diastolic blood pressure\n",
    "    3: Triceps skinfold thickness\n",
    "    4: 2-Hour serum insulin\n",
    "    5: Body mass index\n"
   ]
  },
  {
   "cell_type": "code",
   "execution_count": null,
   "metadata": {},
   "outputs": [],
   "source": [
    "## We can confirm the missing values, by analyzing the raw data. Therefore, we will print the first 10 rows of the dataset\n",
    "print(dataset.head(10))"
   ]
  },
  {
   "cell_type": "markdown",
   "metadata": {},
   "source": [
    "To simplify things, we can print the count of the number of missing values on each column. \n",
    "For better visualization, we will mark all missing values as \"True\", and then, we can count the the \"True\" values for each column [1]."
   ]
  },
  {
   "cell_type": "code",
   "execution_count": null,
   "metadata": {},
   "outputs": [],
   "source": [
    "dataset = read_csv('pima-indians-diabetes.csv', header=None)\n",
    "## count the number of missing values from all 5 columns\n",
    "missing = (dataset[[0,1,2,3,4,5,6,7,8]] == 0).sum()\n",
    "print(missing)"
   ]
  },
  {
   "cell_type": "markdown",
   "metadata": {},
   "source": [
    "It can be seen that columns 1, 2 and 5 has few missing value, while column 3, 4 and 8 have many missing values.\n",
    "In Python, missing values are usually marked as NaN. This values Nan are ignored when operations are performed [1]."
   ]
  },
  {
   "cell_type": "code",
   "execution_count": null,
   "metadata": {},
   "outputs": [],
   "source": [
    "from numpy import nan\n",
    "## replacing all zero values by nan in the dataset\n",
    "dataset[[0,1,2,3,4,5,6,7,8]] = dataset[[0,1,2,3,4,5,6,7,8]].replace(0,nan)\n",
    "print(dataset.isnull().sum())"
   ]
  },
  {
   "cell_type": "markdown",
   "metadata": {},
   "source": [
    "As the sum of counting the zeros in the dayaset, matches the counting when using nan, confirms that we marked and identified the missing values correctly. "
   ]
  },
  {
   "cell_type": "code",
   "execution_count": null,
   "metadata": {},
   "outputs": [],
   "source": [
    "## confirming that the zero values were replaced by NaN\n",
    "print(dataset.head(10))"
   ]
  },
  {
   "cell_type": "markdown",
   "metadata": {},
   "source": [
    "Having missing values in a training dataset can cause errors in the machine learning algorithms and lead to erroneous predictions.\n",
    "It is essential to handle the missing data prior to developing the model and the training process."
   ]
  },
  {
   "cell_type": "markdown",
   "metadata": {},
   "source": [
    "#### Removing the missing values\n",
    "The easiest and simplistic strategy to handle the missing data is to remove all records containing missing data.\n",
    "To achieve this, a new Panda DataFrame can be created with the rows containing the missing values removed.\n",
    "Pandas provide a function dropna(), that can be used to remove columns or rows with missing data. In our example, we will use this function to remove all wors that contain missing data [1]."
   ]
  },
  {
   "cell_type": "code",
   "execution_count": null,
   "metadata": {},
   "outputs": [],
   "source": [
    "dataset = read_csv('pima-indians-diabetes.csv', header=None)\n",
    "# summarize the shape of the raw data\n",
    "print(dataset.shape)\n",
    "# replace '0' values with 'nan'\n",
    "dataset[[1,2,3,4,5]] = dataset[[1,2,3,4,5]].replace(0, nan)\n",
    "# drop rows with missing values\n",
    "dataset.dropna(inplace=True)\n",
    "# summarize the shape of the data with missing rows removed\n",
    "print(dataset.shape)"
   ]
  },
  {
   "cell_type": "markdown",
   "metadata": {},
   "source": [
    "The output of the code above:\n",
    "    - the first row shows the initial number of rows contained in the dataset\n",
    "    - the second row shows the remaining number of rows that do not contain missing data."
   ]
  },
  {
   "cell_type": "markdown",
   "metadata": {},
   "source": [
    "Now that the data had been cleaned for missing values, an algorithm sensitive to missing data can be used to determine the accuracy that can be obtained with the remaining data[1]. \n",
    "#### Latent Dirichlet Allocation (LDA) \n",
    "LDA is an unsupervised learning algorithm that views data as words and works on making a key assumption. [2]\n",
    "\n",
    "Running this algorithm, the output might vary, given the nature of the algorithm. The algorithm should be executed a few times in a row and compute the average outcome to determine the average accuracy that the data can provide [2].\n"
   ]
  },
  {
   "cell_type": "code",
   "execution_count": null,
   "metadata": {},
   "outputs": [],
   "source": [
    "from sklearn.discriminant_analysis import LinearDiscriminantAnalysis\n",
    "from sklearn.model_selection import KFold\n",
    "from sklearn.model_selection import cross_val_score\n",
    "\n",
    "# split dataset into inputs and outputs\n",
    "values = dataset.values\n",
    "X = values[:,0:8]\n",
    "y = values[:,8]\n",
    "# define the model\n",
    "model = LinearDiscriminantAnalysis()\n",
    "# define the model evaluation procedure\n",
    "cv = KFold(n_splits=3, shuffle=True, random_state=1)\n",
    "# evaluate the model\n",
    "result = cross_val_score(model, X, y, cv=cv, scoring='accuracy')\n",
    "# report the mean performance\n",
    "print('Accuracy: %.3f' % result.mean())"
   ]
  },
  {
   "cell_type": "markdown",
   "metadata": {},
   "source": [
    "The approach presented above, which implies the deletion of all rows containing missing values, can limit the model's prediction. Therefore, new methods of dealing with missing values will be detailed below [1].\n",
    "\n",
    "#### Impute Missing Values\n",
    "This method implies the replacement of missing values, and there are many ways of replacing missing values, such as:\n",
    "Replacing a missing value with:\n",
    "    1. a constant value that has meaning \n",
    "    2. a random value from another record\n",
    "    3. a mean, median or mode value for that column\n",
    "    4. a value estimated by another predictive value\n",
    "Each option presented above will have a different impact on the model, and on the predictions, the model will produce. \n",
    "Pandas, provide a function called fillna(), that replaces missing values with a specific value [1].\n",
    "##### Replacing missing values with the mean of the column.\n",
    "This function allows the developer to specify the value that replaces the missing value and the technique used to replace it [1].\n",
    "The Pipeline is used to define the modeling pipeline, where data is primarly passed through the SimpleImputer to be transformed,  and only after fed to the model [1]. "
   ]
  },
  {
   "cell_type": "code",
   "execution_count": null,
   "metadata": {},
   "outputs": [],
   "source": [
    "# example of evaluating a model after an imputer transform\n",
    "from sklearn.pipeline import Pipeline\n",
    "from sklearn.impute import SimpleImputer\n",
    "from sklearn.discriminant_analysis import LinearDiscriminantAnalysis\n",
    "from sklearn.model_selection import KFold\n",
    "from sklearn.model_selection import cross_val_score\n",
    "dataset = read_csv('pima-indians-diabetes.csv', header=None)\n",
    "# mark zero values as missing or NaN\n",
    "dataset[[1,2,3,4,5]] = dataset[[1,2,3,4,5]].replace(0, nan)\n",
    "# split dataset into inputs and outputs\n",
    "values = dataset.values\n",
    "X = values[:,0:8]\n",
    "y = values[:,8]\n",
    "# define the imputer\n",
    "imputer = SimpleImputer(missing_values=nan, strategy='mean')\n",
    "# define the model\n",
    "lda = LinearDiscriminantAnalysis()\n",
    "# define the modeling pipeline\n",
    "pipeline = Pipeline(steps=[('imputer', imputer),('model', lda)])\n",
    "# define the cross validation procedure\n",
    "kfold = KFold(n_splits=3, shuffle=True, random_state=1)\n",
    "# evaluate the model\n",
    "result = cross_val_score(pipeline, X, y, cv=kfold, scoring='accuracy')\n",
    "# report the mean performance\n",
    "print('Accuracy: %.3f' % result.mean())"
   ]
  },
  {
   "cell_type": "markdown",
   "metadata": {},
   "source": [
    "Let's compare the accuracy from the LDA algorithm that removes the rows with missing values and the accuracy of the model that replaced the missing values with the column's mean. We can observe that accuracy had decreased.\n",
    "Try replacing the missing values with other values and compare the results again. For a more detailed example of imputing missing values, check this tutorial: https://machinelearningmastery.com/statistical-imputation-for-missing-values-in-machine-learning/"
   ]
  },
  {
   "cell_type": "markdown",
   "metadata": {},
   "source": [
    "# Machine Learning Algorithms\n",
    "\n",
    "## A high level understanding of machine learning algorithms"
   ]
  },
  {
   "cell_type": "markdown",
   "metadata": {},
   "source": [
    "<a id=\"CNN\"> </a>\n",
    "## Convolutional Neural Networks"
   ]
  },
  {
   "cell_type": "markdown",
   "metadata": {},
   "source": [
    "The following model is considered the \"hello world\" of machine learning programs for computer vision. The model is a supervised learning model that classifies different fashion images to their correct categories [3]."
   ]
  },
  {
   "cell_type": "markdown",
   "metadata": {},
   "source": [
    "Requirements:"
   ]
  },
  {
   "cell_type": "code",
   "execution_count": 1,
   "metadata": {},
   "outputs": [],
   "source": [
    "import tensorflow as tf\n",
    "from tensorflow import keras\n",
    "import numpy as np\n",
    "import matplotlib.pyplot as plt"
   ]
  },
  {
   "cell_type": "markdown",
   "metadata": {},
   "source": [
    "The dataset is composed of:\n",
    " - 60,000 images for training\n",
    " - 10,000 images for testing\n",
    "\n",
    "The images are 28x28 NumPy arrays, with pixels values between 0 and 255 [3]."
   ]
  },
  {
   "cell_type": "code",
   "execution_count": 2,
   "metadata": {},
   "outputs": [],
   "source": [
    "fashion_mnist = keras.datasets.fashion_mnist\n",
    "(train_images, train_labels), (test_images, test_labels) = fashion_mnist.load_data()"
   ]
  },
  {
   "cell_type": "markdown",
   "metadata": {},
   "source": [
    "The fashion categories used for training and testing purposes are:\n",
    "    0. T-shirts\n",
    "    1. Trousers\n",
    "    2. Pullover\n",
    "    3. Dress\n",
    "    4. Coat\n",
    "    5. Sandal\n",
    "    6. Shirt\n",
    "    7. Sneaker\n",
    "    8. Bag\n",
    "    9. Ankle boot\n",
    "\n",
    "Each immage is mapped to its corresponding integer values as seen above [3]."
   ]
  },
  {
   "cell_type": "code",
   "execution_count": 3,
   "metadata": {},
   "outputs": [],
   "source": [
    "class_names = ['T-shirt/top', 'Trouser', 'Pullover', 'Dress', 'Coat',\n",
    "               'Sandal', 'Shirt', 'Sneaker', 'Bag', 'Ankle boot']"
   ]
  },
  {
   "cell_type": "code",
   "execution_count": 4,
   "metadata": {},
   "outputs": [
    {
     "data": {
      "image/png": "[encoded data removed]",
      "text/plain": [
       "<Figure size 432x288 with 2 Axes>"
      ]
     },
     "metadata": {
      "needs_background": "light"
     },
     "output_type": "display_data"
    }
   ],
   "source": [
    "plt.figure()\n",
    "plt.imshow(train_images[5])\n",
    "plt.colorbar()\n",
    "plt.grid(False)\n",
    "plt.show()"
   ]
  },
  {
   "cell_type": "markdown",
   "metadata": {},
   "source": [
    "### Explore the data\n",
    "##### Train Data"
   ]
  },
  {
   "cell_type": "code",
   "execution_count": 5,
   "metadata": {},
   "outputs": [
    {
     "data": {
      "text/plain": [
       "(60000, 28, 28)"
      ]
     },
     "execution_count": 5,
     "metadata": {},
     "output_type": "execute_result"
    }
   ],
   "source": [
    "# This command shows that there are 60,000 images (array index 0), image size: 28x28 (index 1 and 2)\n",
    "train_images.shape"
   ]
  },
  {
   "cell_type": "code",
   "execution_count": 6,
   "metadata": {},
   "outputs": [
    {
     "data": {
      "text/plain": [
       "60000"
      ]
     },
     "execution_count": 6,
     "metadata": {},
     "output_type": "execute_result"
    }
   ],
   "source": [
    "# This command shows the number of labels in the set\n",
    "len(train_labels)"
   ]
  },
  {
   "cell_type": "code",
   "execution_count": 9,
   "metadata": {},
   "outputs": [
    {
     "data": {
      "text/plain": [
       "array([9, 0, 0, ..., 3, 0, 5], dtype=uint8)"
      ]
     },
     "execution_count": 9,
     "metadata": {},
     "output_type": "execute_result"
    }
   ],
   "source": [
    "# lables are represented by numbers between 0 and 9, each coresponding with the correct string representation\n",
    "train_labels"
   ]
  },
  {
   "cell_type": "markdown",
   "metadata": {},
   "source": [
    "##### Test Data"
   ]
  },
  {
   "cell_type": "code",
   "execution_count": 10,
   "metadata": {},
   "outputs": [
    {
     "data": {
      "text/plain": [
       "(10000, 28, 28)"
      ]
     },
     "execution_count": 10,
     "metadata": {},
     "output_type": "execute_result"
    }
   ],
   "source": [
    "test_images.shape"
   ]
  },
  {
   "cell_type": "code",
   "execution_count": 11,
   "metadata": {},
   "outputs": [
    {
     "data": {
      "text/plain": [
       "10000"
      ]
     },
     "execution_count": 11,
     "metadata": {},
     "output_type": "execute_result"
    }
   ],
   "source": [
    "len(test_images)"
   ]
  },
  {
   "cell_type": "code",
   "execution_count": 12,
   "metadata": {},
   "outputs": [
    {
     "data": {
      "text/plain": [
       "array([9, 2, 1, ..., 8, 1, 5], dtype=uint8)"
      ]
     },
     "execution_count": 12,
     "metadata": {},
     "output_type": "execute_result"
    }
   ],
   "source": [
    "test_labels"
   ]
  },
  {
   "cell_type": "markdown",
   "metadata": {},
   "source": [
    "### Processing"
   ]
  },
  {
   "cell_type": "code",
   "execution_count": 13,
   "metadata": {},
   "outputs": [],
   "source": [
    "# Converting greyscale pixels (0-255) to be between 0-1, makes processing easier.\n",
    "# It is important that both the train and the testing sets to be processed the same way!\n",
    "train_images = train_images / 255.0\n",
    "test_images = test_images / 255.0"
   ]
  },
  {
   "cell_type": "code",
   "execution_count": 15,
   "metadata": {},
   "outputs": [
    {
     "data": {
      "image/png": "[encoded data removed]",
      "text/plain": [
       "<Figure size 360x360 with 10 Axes>"
      ]
     },
     "metadata": {},
     "output_type": "display_data"
    }
   ],
   "source": [
    "# To verify that the data is in the correct format, before starting the training process \n",
    "# some items can be displayed in a human-readable form \n",
    "\n",
    "## TRAINING SET VISUALIZATION\n",
    "plt.figure(figsize=(5,5))\n",
    "for i in range(10):\n",
    "    plt.subplot(5,5,i+1)\n",
    "    plt.xticks([])\n",
    "    plt.yticks([])\n",
    "    plt.grid(False)\n",
    "    plt.imshow(train_images[i], cmap=plt.cm.binary)\n",
    "    plt.xlabel(class_names[train_labels[i]])\n",
    "plt.show()"
   ]
  },
  {
   "cell_type": "code",
   "execution_count": 16,
   "metadata": {},
   "outputs": [
    {
     "data": {
      "image/png": "[encoded data removed]",
      "text/plain": [
       "<Figure size 360x360 with 10 Axes>"
      ]
     },
     "metadata": {},
     "output_type": "display_data"
    }
   ],
   "source": [
    "## TESTING SET VISUALIZATION\n",
    "plt.figure(figsize=(5,5))\n",
    "for i in range(10):\n",
    "    plt.subplot(5,5,i+1)\n",
    "    plt.xticks([])\n",
    "    plt.yticks([])\n",
    "    plt.grid(False)\n",
    "    plt.imshow(test_images[i], cmap=plt.cm.binary)\n",
    "    plt.xlabel(class_names[test_labels[i]])\n",
    "plt.show()"
   ]
  },
  {
   "cell_type": "markdown",
   "metadata": {},
   "source": [
    "Humans had mastered their brains to determine objects shapes very quickly. There are certain features of objects that our brains analyze to determine what an object is. We spoke earlier in the <a href=\"#AI\"> Artificial Intelligence </a> section, what a neural network is, but to recap:\n",
    "    For computers, images are just a collection of matrices [7].\n",
    "    ![Images seen by computers](matrices.png)\n",
    "    \n",
    "When an image is passed to a model [7]:\n",
    "1. If the image is colored, the matrix will be a 3D array with RGB values between 0 to 255\n",
    "2. Is the image is black and white, then the matrix is a 2D array with binary values\n",
    "    \n",
    "A Convolutional Neural Network is composed of multiple layers of artificial neurons. These neurons are mathematical functions that calculate the weight of the input, and that outputs an activation value [8].\n",
    "![CNN - Neuron](neuron.png)\n",
    "How a neuron acts is defined by its weight. In our example, when the model is fed pixel values, the neurons of the model pick out different visual features.\n",
    "\n",
    "Usually, the first later of the model detects basic features such as: horizontal, vertical and diagonal edges. The output of the first layer, is fed to the next layer, which extracts more complex features. As we go deeper into the model, each layer detects more complex features (faces, objects, etc) [8].\n",
    "\n",
    "The final layer is the classification layer, which takes the output of the previous layer as input and based on the activation map of the previous layer, outputs a confidence score between 0 and 1, a value that specifies how likely an image belongs to a class [8]."
   ]
  },
  {
   "cell_type": "code",
   "execution_count": 18,
   "metadata": {},
   "outputs": [],
   "source": [
    "model = keras.Sequential([\n",
    "    keras.layers.Flatten(input_shape=(28, 28)),  # input layer (1)\n",
    "    keras.layers.Dense(128, activation='relu'),  # hidden layer (2)\n",
    "    keras.layers.Dense(10, activation='softmax') # output layer (3)\n",
    "])"
   ]
  },
  {
   "cell_type": "code",
   "execution_count": null,
   "metadata": {},
   "outputs": [],
   "source": [
    "plt.figure(figsize=(10,10))\n",
    "for i in range(10):\n",
    "    plt.subplot(5,5,i+1)\n",
    "    plt.xticks([])\n",
    "    plt.yticks([])\n",
    "    plt.grid(False)\n",
    "    plt.imshow(train_images[i], cmap=plt.cm.binary)\n",
    "    plt.xlabel(class_names[train_labels[i]])\n",
    "plt.show()"
   ]
  },
  {
   "cell_type": "code",
   "execution_count": null,
   "metadata": {},
   "outputs": [],
   "source": [
    "model.compile(optimizer='adam',\n",
    "              loss='sparse_categorical_crossentropy',\n",
    "              metrics=['accuracy'])"
   ]
  },
  {
   "cell_type": "code",
   "execution_count": null,
   "metadata": {},
   "outputs": [],
   "source": [
    "model.fit(train_images, train_labels, epochs=10) "
   ]
  },
  {
   "cell_type": "markdown",
   "metadata": {},
   "source": [
    "### Evaluating the Model"
   ]
  },
  {
   "cell_type": "code",
   "execution_count": null,
   "metadata": {},
   "outputs": [],
   "source": [
    "test_loss, test_acc = model.evaluate(test_images,  test_labels, verbose=1) \n",
    "\n",
    "print('Test accuracy:', test_acc)## Predictions"
   ]
  },
  {
   "cell_type": "markdown",
   "metadata": {},
   "source": [
    "## Predictions"
   ]
  },
  {
   "cell_type": "code",
   "execution_count": null,
   "metadata": {},
   "outputs": [],
   "source": [
    "predictions = model.predict(test_images)"
   ]
  },
  {
   "cell_type": "code",
   "execution_count": null,
   "metadata": {},
   "outputs": [],
   "source": [
    "type(predictions)\n",
    "print(predictions)"
   ]
  },
  {
   "cell_type": "code",
   "execution_count": null,
   "metadata": {},
   "outputs": [],
   "source": [
    "np.argmax(predictions[0])"
   ]
  },
  {
   "cell_type": "code",
   "execution_count": null,
   "metadata": {},
   "outputs": [],
   "source": [
    "COLOR = 'white'\n",
    "plt.rcParams['text.color'] = COLOR\n",
    "plt.rcParams['axes.labelcolor'] = COLOR\n",
    "\n",
    "def predict(model, image, correct_label):\n",
    "    class_names = ['T-shirt/top', 'Trouser', 'Pullover', 'Dress', 'Coat',\n",
    "               'Sandal', 'Shirt', 'Sneaker', 'Bag', 'Ankle boot']\n",
    "    prediction = model.predict(np.array([image]))\n",
    "    predicted_class = class_names[np.argmax(prediction)]\n",
    "    show_image(image, class_names[correct_label], predicted_class)\n",
    "\n",
    "\n",
    "def show_image(img, label, guess):\n",
    "    plt.figure()\n",
    "    plt.imshow(img, cmap=plt.cm.binary)\n",
    "    print(\"Expected: \" + label)\n",
    "    print(\"Guess: \" + guess)\n",
    "    plt.colorbar()\n",
    "    plt.grid(False)\n",
    "    plt.show()\n",
    "\n",
    "num = int(input(\"Pick a number inclusive 1-1000: \"))\n",
    "image = test_images[num]\n",
    "label = test_labels[num]\n",
    "predict(model, image, label)\n"
   ]
  },
  {
   "cell_type": "markdown",
   "metadata": {},
   "source": [
    "<a id=\"decision_tree\"> </a>\n",
    "## Decision Tree  [4]"
   ]
  },
  {
   "cell_type": "code",
   "execution_count": null,
   "metadata": {},
   "outputs": [],
   "source": [
    "from sklearn.tree import DecisionTreeClassifier\n",
    "from tensorflow import keras\n",
    "from sklearn import tree\n",
    "import matplotlib.pyplot as plt"
   ]
  },
  {
   "cell_type": "code",
   "execution_count": null,
   "metadata": {},
   "outputs": [],
   "source": [
    "fashion_mnist = keras.datasets.fashion_mnist\n",
    "(train_images, train_labels),(test_images, test_labels) = fashion_mnist.load_data()"
   ]
  },
  {
   "cell_type": "code",
   "execution_count": null,
   "metadata": {},
   "outputs": [],
   "source": [
    "class_names = ['T-shirt/top', 'Trouser', 'Pullover', 'Dress', 'Coat',\n",
    "               'Sandal', 'Shirt', 'Sneaker', 'Bag', 'Ankle boot']"
   ]
  },
  {
   "cell_type": "code",
   "execution_count": null,
   "metadata": {},
   "outputs": [],
   "source": [
    "# flatten the images to have values between 0 and 1\n",
    "train_images = train_images/255.0\n",
    "test_images = test_images/255.0"
   ]
  },
  {
   "cell_type": "code",
   "execution_count": null,
   "metadata": {},
   "outputs": [],
   "source": [
    "## the max depth of the tree is the number of classifiers\n",
    "model = DecisionTreeClassifier(max_depth=len(class_names)-1) "
   ]
  },
  {
   "cell_type": "code",
   "execution_count": null,
   "metadata": {},
   "outputs": [],
   "source": [
    "## flatten the images from a two-dimensional array to a one-dimensional array\n",
    "## Index, X, Y\n",
    "index,x,y = train_images.shape\n",
    "d2_train = train_images.reshape(index, x*y)\n",
    "\n",
    "index,x,y = test_images.shape\n",
    "d2_test = test_images.reshape(index, x*y)"
   ]
  },
  {
   "cell_type": "code",
   "execution_count": null,
   "metadata": {},
   "outputs": [],
   "source": [
    "## train the model\n",
    "model.fit(d2_train, train_labels)"
   ]
  },
  {
   "cell_type": "code",
   "execution_count": null,
   "metadata": {},
   "outputs": [],
   "source": [
    "## flatten the images from a two-dimensional array to a one-dimensional array\n",
    "## Index, X, Y\n",
    "index,x,y = train_images.shape\n",
    "d2_train = train_images.reshape(index, x*y)\n",
    "\n",
    "index,x,y = test_images.shape\n",
    "d2_test = test_images.reshape(index, x*y)"
   ]
  },
  {
   "cell_type": "code",
   "execution_count": null,
   "metadata": {},
   "outputs": [],
   "source": [
    "predictions = model.predict(d2_test)"
   ]
  },
  {
   "cell_type": "code",
   "execution_count": null,
   "metadata": {},
   "outputs": [],
   "source": [
    "predictions[0]"
   ]
  },
  {
   "cell_type": "code",
   "execution_count": null,
   "metadata": {},
   "outputs": [],
   "source": [
    "from sklearn.metrics import accuracy_score\n",
    "accuracy_score(predictions, test_labels)"
   ]
  },
  {
   "cell_type": "code",
   "execution_count": null,
   "metadata": {},
   "outputs": [],
   "source": [
    "print(tree.export_text(model))"
   ]
  },
  {
   "cell_type": "code",
   "execution_count": null,
   "metadata": {},
   "outputs": [],
   "source": [
    "import matplotlib.pyplot as plt"
   ]
  },
  {
   "cell_type": "code",
   "execution_count": null,
   "metadata": {},
   "outputs": [],
   "source": [
    "choice = int(input())\n",
    "print(f\"Predicted: {class_names[predictions[choice]]}\")\n",
    "print(f\"Expected: {class_names[test_labels[choice]]}\")\n",
    "plt .figure()\n",
    "plt.imshow(train_images[choice], cmap=plt.cm.binary)\n",
    "plt.show()"
   ]
  },
  {
   "cell_type": "markdown",
   "metadata": {},
   "source": [
    "# Conclusion\n",
    "\n",
    "(needs to be filled)"
   ]
  },
  {
   "cell_type": "code",
   "execution_count": null,
   "metadata": {},
   "outputs": [],
   "source": []
  },
  {
   "cell_type": "markdown",
   "metadata": {},
   "source": [
    "# References\n",
    "1. Jason Brownlee (2017), \"How to Handle Missing Data with Python\", Available at: https://machinelearningmastery.com/handle-missing-data-python/, (Accessed 10 December 2020)\n",
    "\n",
    "\n",
    "2. Tyler Doll, 2018, \"LDA Topic Modeling: An Explanation\", Available at: https://towardsdatascience.com/lda-topic-modeling-an-explanation-e184c90aadcd, (Accessed 01.01.2021)\n",
    "\n",
    "\n",
    "3. Tenserflow (2020), \"Basic classification: Classify images of clothing\", Available at: https://www.tensorflow.org/tutorials/keras/classification, (Accessed 05.01.2020)\n",
    "\n",
    "\n",
    "4. Theodora Tataru and Liliana O'Sullivan (2020), \"4​th​ Year Data Science CA 1- Research Document\" Available at: https://instituteoftechnol663-my.sharepoint.com/:b:/g/personal/c00231174_itcarlow_ie/EaPwa2jNdhxEs0FtRfYoPlABahguc5fn0Rd8gf93eeLYEw?e=r3ywIz, (Accessed 05.01.2020)\n",
    "\n",
    "\n",
    "5. Douglas Daseeco (2017), “How does AI learn?”, Available at: https://ai.stackexchange.com/questions/3640/how-does-an-ai-learn, (Accessed 05.01.2021)\n",
    "\n",
    "\n",
    "6. Matthew Hutson (2018), “How researchers are teaching AI to learn like a child”, Available at: https://www.sciencemag.org/news/2018/05/howresearchers-are-teaching-ai-learn-child, (Accessed 05.01.2021)\n",
    "\n",
    "\n",
    "7. Daksh Trehan (2020), \"Convolutional Neural Networks\", Available at: https://medium.com/towards-artificial-intelligence/convolutional-neural-networks-for-dummies-afd7166cd9e, (Accessed 22.01.2021)\n",
    "\n",
    "\n",
    "8. Ben Dickson (2020), \"What are convolutional neural networks (CNN)?\", Available at: https://bdtechtalks.com/2020/01/06/convolutional-neural-networks-cnn-convnets/, (Accessed 22.01.2021)\n",
    "\n",
    "\n"
   ]
  },
  {
   "cell_type": "code",
   "execution_count": null,
   "metadata": {},
   "outputs": [],
   "source": []
  }
 ],
 "metadata": {
  "kernelspec": {
   "display_name": "Python 3",
   "language": "python",
   "name": "python3"
  },
  "language_info": {
   "codemirror_mode": {
    "name": "ipython",
    "version": 3
   },
   "file_extension": ".py",
   "mimetype": "text/x-python",
   "name": "python",
   "nbconvert_exporter": "python",
   "pygments_lexer": "ipython3",
   "version": "3.8.3"
  }
 },
 "nbformat": 4,
 "nbformat_minor": 4
}
