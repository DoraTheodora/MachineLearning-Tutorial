{
 "cells": [
  {
   "cell_type": "markdown",
   "metadata": {},
   "source": [
    "# Machine Learning Tutorial\n",
    "    Author:    Theodora Tataru\n",
    "               C00231174\n",
    "    Tutor:     Greg Doyle\n",
    "    Course:    Software Development, 4th year\n",
    "    Institute: Institute of Technology Carlow\n",
    "    Year:      2020\n",
    "\n",
    "### This is tutorial focuses on various preprocessing data tehniques and algorithms\n",
    "#### Pre-processing data methods:\n",
    "    - cleaning data\n",
    "    - data inegration\n",
    "    - data reduction\n",
    "\n",
    "#### Algorithms:\n"
   ]
  },
  {
   "cell_type": "markdown",
   "metadata": {},
   "source": [
    "## Data pre-processing\n",
    "This tutorial demonstrates, different tehniques for pre-processing data.\n",
    "In this part of the tutorial, the following pre-processing methods:\n",
    "    - data cleaning\n",
    "        - handle missing data\n",
    "        - handle noisy data\n",
    "        - binning data for data smoothing\n",
    "    - data integration and transformation\n",
    "        - handle duplicate data\n",
    "        - data integration\n",
    "    - data reduction\n",
    "        - cube aggregation"
   ]
  },
  {
   "cell_type": "markdown",
   "metadata": {},
   "source": [
    "## Data cleaning - Missing data\n",
    "\n",
    "### Packages needed:\n",
    "    - Python 3\n",
    "    - Pandas\n",
    "    - NumPy\n",
    "    - Scikit-Learn\n",
    "### Overview\n",
    "#### Dataset: Diabetes dataset\n",
    "    - Diabetes Dataset\n",
    "    - Has missing values: YES\n",
    "    - Source: National Institute of Diabeted and Digestive KIdgney Diseases\n",
    "    - Date: 1990\n",
    "    - Number of instaces: 768\n",
    "    - Number of attributes: 8+\n",
    "           1. Number of times pregnant\n",
    "           2. Plasma glucose concentration a 2 hours in an oral glucose tolerance test\n",
    "           3. Diastolic blood pressure (mm Hg)\n",
    "           4. Triceps skin fold thickness (mm)\n",
    "           5. 2-Hour serum insulin (mu U/ml)\n",
    "           6. Body mass index (weight in kg/(height in m)^2)\n",
    "           7. Diabetes pedigree function\n",
    "           8. Age (years)\n",
    "           9. Class variable (0 or 1)\n",
    "#### Process:\n",
    "    - mark missing values\n",
    "    - remove rows with missing values\n",
    "    - replace missing values\n",
    "    - use algorithms that support missing values\n",
    "\n",
    "  "
   ]
  },
  {
   "cell_type": "code",
   "execution_count": 3,
   "metadata": {},
   "outputs": [
    {
     "name": "stdout",
     "output_type": "stream",
     "text": [
      "      0    1   2   3    4     5      6   7  8\n",
      "0     6  148  72  35    0  33.6  0.627  50  1\n",
      "1     1   85  66  29    0  26.6  0.351  31  0\n",
      "2     8  183  64   0    0  23.3  0.672  32  1\n",
      "3     1   89  66  23   94  28.1  0.167  21  0\n",
      "4     0  137  40  35  168  43.1  2.288  33  1\n",
      "..   ..  ...  ..  ..  ...   ...    ...  .. ..\n",
      "763  10  101  76  48  180  32.9  0.171  63  0\n",
      "764   2  122  70  27    0  36.8  0.340  27  0\n",
      "765   5  121  72  23  112  26.2  0.245  30  0\n",
      "766   1  126  60   0    0  30.1  0.349  47  1\n",
      "767   1   93  70  31    0  30.4  0.315  23  0\n",
      "\n",
      "[768 rows x 9 columns]\n"
     ]
    }
   ],
   "source": [
    "## Mark Missing values\n",
    "from pandas import read_csv ## used to load the dataset\n",
    "dataset = read_csv('pima-indians-diabetes.csv', header=None) ## load the data set from harddisk\n",
    "print(dataset) ## print the summary of the dataset, to see missing values"
   ]
  },
  {
   "cell_type": "code",
   "execution_count": null,
   "metadata": {},
   "outputs": [],
   "source": []
  }
 ],
 "metadata": {
  "kernelspec": {
   "display_name": "Python 3",
   "language": "python",
   "name": "python3"
  },
  "language_info": {
   "codemirror_mode": {
    "name": "ipython",
    "version": 3
   },
   "file_extension": ".py",
   "mimetype": "text/x-python",
   "name": "python",
   "nbconvert_exporter": "python",
   "pygments_lexer": "ipython3",
   "version": "3.8.3"
  }
 },
 "nbformat": 4,
 "nbformat_minor": 4
}
